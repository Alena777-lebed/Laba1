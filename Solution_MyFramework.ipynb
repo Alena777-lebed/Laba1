{
 "cells": [
  {
   "cell_type": "markdown",
   "metadata": {},
   "source": [
    "## Лабораторная работа по курсу \"Искусственный интеллект\"\n",
    "## Многослойный персептрон\n",
    "\n",
    "| Студент | Лебеденко  |\n",
    "|---------|------------|\n",
    "| Группа  | М8о-301Б-19|\n",
    "\n",
    "Для начала, скачаем датасет MNIST. Используйте `wget` или `curl`, либо скачайте вручную [по ссылке](https://raw.githubusercontent.com/shwars/NeuroWorkshop/master/Data/MNIST/mnist.pkl.gz)."
   ]
  },
  {
   "cell_type": "markdown",
   "metadata": {},
   "source": [
    "Теперь загружаем датасет:"
   ]
  },
  {
   "cell_type": "code",
   "execution_count": 2,
   "metadata": {},
   "outputs": [],
   "source": [
    "import pickle\n",
    "with open('mnist.pkl','rb') as f:\n",
    "    MNIST = pickle.load(f)"
   ]
  },
  {
   "cell_type": "code",
   "execution_count": 3,
   "metadata": {},
   "outputs": [],
   "source": [
    "import numpy as np"
   ]
  },
  {
   "cell_type": "code",
   "execution_count": 4,
   "metadata": {},
   "outputs": [],
   "source": [
    "labels = MNIST['Train']['Labels']\n",
    "data = MNIST['Train']['Features'].astype(np.float32)/256"
   ]
  },
  {
   "cell_type": "markdown",
   "metadata": {},
   "source": [
    "Смотрим на то, какие данные получились:"
   ]
  },
  {
   "cell_type": "code",
   "execution_count": 5,
   "metadata": {},
   "outputs": [
    {
     "data": {
      "text/plain": [
       "(42000, 784)"
      ]
     },
     "execution_count": 5,
     "metadata": {},
     "output_type": "execute_result"
    }
   ],
   "source": [
    "data.shape"
   ]
  },
  {
   "cell_type": "markdown",
   "metadata": {},
   "source": [
    "Используйте Scikit Learn для разбиения данных на обучающую и тестовую выборку"
   ]
  },
  {
   "cell_type": "code",
   "execution_count": 6,
   "metadata": {},
   "outputs": [],
   "source": [
    "from sklearn.model_selection import train_test_split\n",
    "train_data, test_data, train_labels, test_labels = train_test_split(data, labels, stratify=labels,test_size=0.25)"
   ]
  },
  {
   "cell_type": "code",
   "execution_count": 7,
   "metadata": {},
   "outputs": [],
   "source": [
    "import matplotlib.pyplot as plt \n",
    "from matplotlib import gridspec"
   ]
  },
  {
   "cell_type": "code",
   "execution_count": 8,
   "metadata": {},
   "outputs": [],
   "source": [
    "class Linear:\n",
    "    def __init__(self,nin,nout):\n",
    "        self.W = np.random.normal(0, 1.0/np.sqrt(nin), (nout, nin))\n",
    "        self.b = np.zeros((1,nout))\n",
    "        self.dW = np.zeros_like(self.W)\n",
    "        self.db = np.zeros_like(self.b)\n",
    "        \n",
    "    def forward(self, x):\n",
    "        self.x=x\n",
    "        return np.dot(x, self.W.T) + self.b\n",
    "    \n",
    "    def backward(self, dz):\n",
    "        dx = np.dot(dz, self.W)\n",
    "        dW = np.dot(dz.T, self.x)\n",
    "        db = dz.sum(axis=0)\n",
    "        self.dW = dW\n",
    "        self.db = db\n",
    "        return dx\n",
    "    \n",
    "    def update(self,lr):\n",
    "        self.W -= lr*self.dW\n",
    "        self.b -= lr*self.db"
   ]
  },
  {
   "cell_type": "code",
   "execution_count": 9,
   "metadata": {},
   "outputs": [],
   "source": [
    "class Softmax:\n",
    "    def forward(self,z):\n",
    "        self.z = z\n",
    "        zmax = z.max(axis=1,keepdims=True)\n",
    "        expz = np.exp(z-zmax)\n",
    "        Z = expz.sum(axis=1,keepdims=True)\n",
    "        return expz / Z\n",
    "    def backward(self,dp):\n",
    "        p = self.forward(self.z)\n",
    "        pdp = p * dp\n",
    "        return pdp - p * pdp.sum(axis=1, keepdims=True)\n",
    "    \n",
    "class CrossEntropyLoss:\n",
    "    def forward(self,p,y):\n",
    "        self.p = p\n",
    "        self.y = y\n",
    "        p_of_y = p[np.arange(len(y)), y]\n",
    "        log_prob = np.log(p_of_y)\n",
    "        return -log_prob.mean()\n",
    "    def backward(self,loss):\n",
    "        dlog_softmax = np.zeros_like(self.p)\n",
    "        dlog_softmax[np.arange(len(self.y)), self.y] -= 1.0/len(self.y)\n",
    "        return dlog_softmax / self.p"
   ]
  },
  {
   "cell_type": "code",
   "execution_count": 10,
   "metadata": {},
   "outputs": [],
   "source": [
    "class Net:\n",
    "    def __init__(self):\n",
    "        self.layers = []\n",
    "    \n",
    "    def add(self,l):\n",
    "        self.layers.append(l)\n",
    "        \n",
    "    def forward(self,x):\n",
    "        for l in self.layers:\n",
    "            x = l.forward(x)\n",
    "        return x\n",
    "    \n",
    "    def backward(self,z):\n",
    "        for l in self.layers[::-1]:\n",
    "            z = l.backward(z)\n",
    "        return z\n",
    "    \n",
    "    def update(self,lr):\n",
    "        for l in self.layers:\n",
    "            if 'update' in l.__dir__():\n",
    "                l.update(lr)\n",
    "                \n",
    "    def compile(self, loss=None, metrics=[\"accuracy\"]):\n",
    "        self.loss = loss\n",
    "        self.metrics = metrics\n",
    "    \n",
    "    def get_loss_acc(self, x, y):\n",
    "        p = self.forward(x)\n",
    "        l = self.loss.forward(p,y)\n",
    "        pred = np.argmax(p,axis=1)\n",
    "        acc = (pred==y).mean()\n",
    "        return l, acc\n",
    "    \n",
    "    def fit(self, X_train, y_train, batch_size=4, epochs=10, validation_data=None, lr=0.3):\n",
    "        X_test, y_test = validation_data\n",
    "        history = []\n",
    "        train_loss, train_acc = self.get_loss_acc(X_train, y_train)\n",
    "        test_loss, test_acc = self.get_loss_acc(X_test, y_test)\n",
    "        history.append([train_acc,train_loss,test_acc,test_loss])\n",
    "        \n",
    "        for i in range(4):\n",
    "            print(f\"Initial {['train_acc','train_loss','test_acc','test_loss'][i]}: {history[-1][i]}\")\n",
    "\n",
    "        for epo in range(epochs):\n",
    "            for i in range(0,len(X_train),batch_size):\n",
    "                xb = X_train[i:i+batch_size]\n",
    "                yb = y_train[i:i+batch_size]\n",
    "                p = self.forward(xb)\n",
    "                l = self.loss.forward(p,yb)\n",
    "                dp = self.loss.backward(l)\n",
    "                dx = self.backward(dp)\n",
    "                net.update(lr)\n",
    "            train_loss, train_acc = self.get_loss_acc(X_train, y_train)\n",
    "            test_loss, test_acc = self.get_loss_acc(X_test, y_test)\n",
    "            history.append([train_acc,train_loss,test_acc,test_loss])\n",
    "            print(f\"epoch: {epo+1}/{epochs}\")\n",
    "            for i in range(4):\n",
    "                print(f\"{['train_acc','train_loss','test_acc','test_loss'][i]}: {history[-1][i]}\")\n",
    "            #print(\"confusion matrix:\", self.get_conf_mat(X_train, y_train), sep='\\n')\n",
    "        return history"
   ]
  },
  {
   "cell_type": "code",
   "execution_count": 11,
   "metadata": {},
   "outputs": [
    {
     "name": "stdout",
     "output_type": "stream",
     "text": [
      "Initial train_acc: 0.12285714285714286\n",
      "Initial train_loss: 2.3145422738646557\n",
      "Initial test_acc: 0.122\n",
      "Initial test_loss: 2.3148204851414933\n",
      "epoch: 1/30\n",
      "train_acc: 0.23765079365079364\n",
      "train_loss: 2.177047116655947\n",
      "test_acc: 0.2340952380952381\n",
      "test_loss: 2.177300747878798\n",
      "epoch: 2/30\n",
      "train_acc: 0.3706031746031746\n",
      "train_loss: 2.0588646469128484\n",
      "test_acc: 0.3741904761904762\n",
      "test_loss: 2.059122040568387\n",
      "epoch: 3/30\n",
      "train_acc: 0.48965079365079367\n",
      "train_loss: 1.9539159860734765\n",
      "test_acc: 0.4866666666666667\n",
      "test_loss: 1.9542074610269968\n",
      "epoch: 4/30\n",
      "train_acc: 0.5676825396825397\n",
      "train_loss: 1.8592206165753107\n",
      "test_acc: 0.5685714285714286\n",
      "test_loss: 1.8595719483457893\n",
      "epoch: 5/30\n",
      "train_acc: 0.6215238095238095\n",
      "train_loss: 1.7731918248883616\n",
      "test_acc: 0.6200952380952381\n",
      "test_loss: 1.7736228648042198\n",
      "epoch: 6/30\n",
      "train_acc: 0.6608253968253969\n",
      "train_loss: 1.6948246975652466\n",
      "test_acc: 0.6578095238095238\n",
      "test_loss: 1.6953502948076655\n",
      "epoch: 7/30\n",
      "train_acc: 0.6906666666666667\n",
      "train_loss: 1.6233493220984518\n",
      "test_acc: 0.6893333333333334\n",
      "test_loss: 1.6239806646496446\n",
      "epoch: 8/30\n",
      "train_acc: 0.7141904761904762\n",
      "train_loss: 1.5581004387093353\n",
      "test_acc: 0.7095238095238096\n",
      "test_loss: 1.5588460766258332\n",
      "epoch: 9/30\n",
      "train_acc: 0.7308253968253968\n",
      "train_loss: 1.4984743327873173\n",
      "test_acc: 0.7263809523809523\n",
      "test_loss: 1.4993408110329065\n",
      "epoch: 10/30\n",
      "train_acc: 0.7447619047619047\n",
      "train_loss: 1.4439167541692848\n",
      "test_acc: 0.7414285714285714\n",
      "test_loss: 1.444908989297155\n",
      "epoch: 11/30\n",
      "train_acc: 0.7549206349206349\n",
      "train_loss: 1.3939202371678299\n",
      "test_acc: 0.7552380952380953\n",
      "test_loss: 1.395041767382081\n",
      "epoch: 12/30\n",
      "train_acc: 0.7647301587301587\n",
      "train_loss: 1.3480232711334275\n",
      "test_acc: 0.764\n",
      "test_loss: 1.3492764544535039\n",
      "epoch: 13/30\n",
      "train_acc: 0.7734285714285715\n",
      "train_loss: 1.3058090377009586\n",
      "test_acc: 0.7727619047619048\n",
      "test_loss: 1.3071952290543458\n",
      "epoch: 14/30\n",
      "train_acc: 0.7806349206349207\n",
      "train_loss: 1.2669032836803185\n",
      "test_acc: 0.7792380952380953\n",
      "test_loss: 1.2684229985386442\n",
      "epoch: 15/30\n",
      "train_acc: 0.7866984126984127\n",
      "train_loss: 1.2309714851467672\n",
      "test_acc: 0.7852380952380953\n",
      "test_loss: 1.2326245486628853\n",
      "epoch: 16/30\n",
      "train_acc: 0.7918095238095239\n",
      "train_loss: 1.1977155877313497\n",
      "test_acc: 0.7904761904761904\n",
      "test_loss: 1.1995012669430383\n",
      "epoch: 17/30\n",
      "train_acc: 0.7962222222222223\n",
      "train_loss: 1.1668705830545025\n",
      "test_acc: 0.7940952380952381\n",
      "test_loss: 1.1687877009227174\n",
      "epoch: 18/30\n",
      "train_acc: 0.7996507936507936\n",
      "train_loss: 1.1382011151470603\n",
      "test_acc: 0.7977142857142857\n",
      "test_loss: 1.140248146751967\n",
      "epoch: 19/30\n",
      "train_acc: 0.8030793650793651\n",
      "train_loss: 1.1114982446551191\n",
      "test_acc: 0.8016190476190476\n",
      "test_loss: 1.1136733969932457\n",
      "epoch: 20/30\n",
      "train_acc: 0.8057777777777778\n",
      "train_loss: 1.0865764453712308\n",
      "test_acc: 0.8054285714285714\n",
      "test_loss: 1.0888777227705733\n",
      "epoch: 21/30\n",
      "train_acc: 0.8087301587301587\n",
      "train_loss: 1.0632708689619539\n",
      "test_acc: 0.809047619047619\n",
      "test_loss: 1.0656961262843374\n",
      "epoch: 22/30\n",
      "train_acc: 0.8113650793650794\n",
      "train_loss: 1.0414348876378101\n",
      "test_acc: 0.8126666666666666\n",
      "test_loss: 1.0439818733322417\n",
      "epoch: 23/30\n",
      "train_acc: 0.8128253968253968\n",
      "train_loss: 1.0209379079985206\n",
      "test_acc: 0.8146666666666667\n",
      "test_loss: 1.0236042988358593\n",
      "epoch: 24/30\n",
      "train_acc: 0.8148253968253968\n",
      "train_loss: 1.0016634396514044\n",
      "test_acc: 0.8168571428571428\n",
      "test_loss: 1.0044468686947687\n",
      "epoch: 25/30\n",
      "train_acc: 0.8166349206349206\n",
      "train_loss: 0.9835073972522491\n",
      "test_acc: 0.819047619047619\n",
      "test_loss: 0.9864054763473836\n",
      "epoch: 26/30\n",
      "train_acc: 0.8182539682539682\n",
      "train_loss: 0.9663766127265875\n",
      "test_acc: 0.820952380952381\n",
      "test_loss: 0.9693869505551981\n",
      "epoch: 27/30\n",
      "train_acc: 0.820031746031746\n",
      "train_loss: 0.9501875344413625\n",
      "test_acc: 0.8231428571428572\n",
      "test_loss: 0.9533077509762103\n",
      "epoch: 28/30\n",
      "train_acc: 0.8213333333333334\n",
      "train_loss: 0.9348650912238035\n",
      "test_acc: 0.8247619047619048\n",
      "test_loss: 0.9380928292570858\n",
      "epoch: 29/30\n",
      "train_acc: 0.8231111111111111\n",
      "train_loss: 0.9203417008435398\n",
      "test_acc: 0.8264761904761905\n",
      "test_loss: 0.9236746351259049\n",
      "epoch: 30/30\n",
      "train_acc: 0.8241904761904761\n",
      "train_loss: 0.9065564045500242\n",
      "test_acc: 0.8280952380952381\n",
      "test_loss: 0.9099922489712466\n"
     ]
    }
   ],
   "source": [
    "net = Net()\n",
    "net.add(Linear(784, 10))\n",
    "net.add(Softmax())\n",
    "net.compile(loss=CrossEntropyLoss())\n",
    "\n",
    "hist = net.fit(train_data,train_labels, lr=0.001, epochs=30, batch_size=256, validation_data=(test_data,test_labels))"
   ]
  },
  {
   "cell_type": "code",
   "execution_count": 12,
   "metadata": {},
   "outputs": [
    {
     "data": {
      "text/plain": [
       "<matplotlib.legend.Legend at 0x221888b5f10>"
      ]
     },
     "execution_count": 12,
     "metadata": {},
     "output_type": "execute_result"
    },
    {
     "data": {
      "image/png": "[encoded data removed]",
      "text/plain": [
       "<Figure size 432x288 with 1 Axes>"
      ]
     },
     "metadata": {
      "needs_background": "light"
     },
     "output_type": "display_data"
    }
   ],
   "source": [
    "plt.clf()\n",
    "plt.ylim(0, 2.0)\n",
    "for i in range(2):\n",
    "    plt.plot([val[i] for val in hist], label=['test_acc','test_loss'][i])\n",
    "plt.legend()"
   ]
  },
  {
   "cell_type": "code",
   "execution_count": 13,
   "metadata": {},
   "outputs": [],
   "source": [
    "class Tanh:\n",
    "    def forward(self,x):\n",
    "        y = np.tanh(x)\n",
    "        self.y = y\n",
    "        return y\n",
    "    def backward(self,dy):\n",
    "        return (1.0-self.y**2)*dy"
   ]
  },
  {
   "cell_type": "code",
   "execution_count": 17,
   "metadata": {},
   "outputs": [
    {
     "name": "stdout",
     "output_type": "stream",
     "text": [
      "Initial train_acc: 0.08406349206349206\n",
      "Initial train_loss: 2.398345641780953\n",
      "Initial test_acc: 0.08104761904761905\n",
      "Initial test_loss: 2.398838686468409\n",
      "epoch: 1/15\n",
      "train_acc: 0.15434920634920635\n",
      "train_loss: 2.251490249749054\n",
      "test_acc: 0.15304761904761904\n",
      "test_loss: 2.2517543488189515\n",
      "epoch: 2/15\n",
      "train_acc: 0.32126984126984126\n",
      "train_loss: 2.1349666572695067\n",
      "test_acc: 0.32\n",
      "test_loss: 2.1350184023673666\n",
      "epoch: 3/15\n",
      "train_acc: 0.4614920634920635\n",
      "train_loss: 2.0330838895431875\n",
      "test_acc: 0.4594285714285714\n",
      "test_loss: 2.032972257465255\n",
      "epoch: 4/15\n",
      "train_acc: 0.5491746031746032\n",
      "train_loss: 1.9401297728608455\n",
      "test_acc: 0.5500952380952381\n",
      "test_loss: 1.9399063991002552\n",
      "epoch: 5/15\n",
      "train_acc: 0.6039682539682539\n",
      "train_loss: 1.853882450077456\n",
      "test_acc: 0.6051428571428571\n",
      "test_loss: 1.8535947311037433\n",
      "epoch: 6/15\n",
      "train_acc: 0.6401587301587301\n",
      "train_loss: 1.773391430246744\n",
      "test_acc: 0.6402857142857142\n",
      "test_loss: 1.7730812520205266\n",
      "epoch: 7/15\n",
      "train_acc: 0.6656507936507936\n",
      "train_loss: 1.6981861915037362\n",
      "test_acc: 0.6656190476190477\n",
      "test_loss: 1.6978899027677647\n",
      "epoch: 8/15\n",
      "train_acc: 0.6862539682539682\n",
      "train_loss: 1.6279726048516183\n",
      "test_acc: 0.6820952380952381\n",
      "test_loss: 1.6277212414240545\n",
      "epoch: 9/15\n",
      "train_acc: 0.7012380952380952\n",
      "train_loss: 1.5625095050347069\n",
      "test_acc: 0.6960952380952381\n",
      "test_loss: 1.562329091299759\n",
      "epoch: 10/15\n",
      "train_acc: 0.7157460317460318\n",
      "train_loss: 1.501559715619572\n",
      "test_acc: 0.7091428571428572\n",
      "test_loss: 1.5014716370332224\n",
      "epoch: 11/15\n",
      "train_acc: 0.7283174603174604\n",
      "train_loss: 1.4448744646288818\n",
      "test_acc: 0.7221904761904762\n",
      "test_loss: 1.4448959141010584\n",
      "epoch: 12/15\n",
      "train_acc: 0.7387619047619047\n",
      "train_loss: 1.392192680645854\n",
      "test_acc: 0.7334285714285714\n",
      "test_loss: 1.3923371605379053\n",
      "epoch: 13/15\n",
      "train_acc: 0.7482857142857143\n",
      "train_loss: 1.3432460863628672\n",
      "test_acc: 0.7453333333333333\n",
      "test_loss: 1.343523931619134\n",
      "epoch: 14/15\n",
      "train_acc: 0.7562857142857143\n",
      "train_loss: 1.2977656917904763\n",
      "test_acc: 0.7524761904761905\n",
      "test_loss: 1.2981845768464968\n",
      "epoch: 15/15\n",
      "train_acc: 0.7630476190476191\n",
      "train_loss: 1.2554877512234524\n",
      "test_acc: 0.7578095238095238\n",
      "test_loss: 1.2560531518659566\n"
     ]
    }
   ],
   "source": [
    "net = Net()\n",
    "net.add(Linear(784, 100))\n",
    "net.add(Tanh())\n",
    "net.add(Linear(100,10))\n",
    "net.add(Softmax())\n",
    "loss = CrossEntropyLoss()\n",
    "\n",
    "net.compile(loss=CrossEntropyLoss())\n",
    "\n",
    "hist = net.fit(train_data, train_labels, lr=0.001, epochs=15, batch_size=256, validation_data=(test_data,test_labels))"
   ]
  },
  {
   "cell_type": "code",
   "execution_count": 16,
   "metadata": {},
   "outputs": [
    {
     "data": {
      "text/plain": [
       "<matplotlib.legend.Legend at 0x22189f02670>"
      ]
     },
     "execution_count": 16,
     "metadata": {},
     "output_type": "execute_result"
    },
    {
     "data": {
      "image/png": "[encoded data removed]",
      "text/plain": [
       "<Figure size 432x288 with 1 Axes>"
      ]
     },
     "metadata": {
      "needs_background": "light"
     },
     "output_type": "display_data"
    }
   ],
   "source": [
    "plt.clf()\n",
    "plt.ylim(0, 2.0)\n",
    "for i in range(2):\n",
    "    plt.plot([val[i] for val in hist], label=['test_acc','test_loss'][i])\n",
    "plt.legend()"
   ]
  },
  {
   "cell_type": "code",
   "execution_count": 20,
   "metadata": {},
   "outputs": [
    {
     "name": "stdout",
     "output_type": "stream",
     "text": [
      "Initial train_acc: 0.11517460317460318\n",
      "Initial train_loss: 2.347975753618626\n",
      "Initial test_acc: 0.11133333333333334\n",
      "Initial test_loss: 2.349224316392998\n",
      "epoch: 1/15\n",
      "train_acc: 0.22593650793650794\n",
      "train_loss: 2.2166233458287565\n",
      "test_acc: 0.22228571428571428\n",
      "test_loss: 2.218017898902587\n",
      "epoch: 2/15\n",
      "train_acc: 0.36273015873015874\n",
      "train_loss: 2.0990422953031675\n",
      "test_acc: 0.3616190476190476\n",
      "test_loss: 2.1005625211323267\n",
      "epoch: 3/15\n",
      "train_acc: 0.48428571428571426\n",
      "train_loss: 1.9912801507007225\n",
      "test_acc: 0.48114285714285715\n",
      "test_loss: 1.9929178894280264\n",
      "epoch: 4/15\n",
      "train_acc: 0.5714285714285714\n",
      "train_loss: 1.891607076174321\n",
      "test_acc: 0.5658095238095238\n",
      "test_loss: 1.8933582532650277\n",
      "epoch: 5/15\n",
      "train_acc: 0.6270793650793651\n",
      "train_loss: 1.7990942463990132\n",
      "test_acc: 0.6208571428571429\n",
      "test_loss: 1.8009565943273573\n",
      "epoch: 6/15\n",
      "train_acc: 0.6647301587301587\n",
      "train_loss: 1.713153886727079\n",
      "test_acc: 0.6579047619047619\n",
      "test_loss: 1.7151263528513352\n",
      "epoch: 7/15\n",
      "train_acc: 0.6901904761904762\n",
      "train_loss: 1.633355236059295\n",
      "test_acc: 0.6868571428571428\n",
      "test_loss: 1.635437753687781\n",
      "epoch: 8/15\n",
      "train_acc: 0.710920634920635\n",
      "train_loss: 1.5593390556057103\n",
      "test_acc: 0.707047619047619\n",
      "test_loss: 1.561532280918397\n",
      "epoch: 9/15\n",
      "train_acc: 0.7267936507936508\n",
      "train_loss: 1.4907746321219524\n",
      "test_acc: 0.7236190476190476\n",
      "test_loss: 1.4930796061518437\n",
      "epoch: 10/15\n",
      "train_acc: 0.7387936507936508\n",
      "train_loss: 1.4273386046814347\n",
      "test_acc: 0.7361904761904762\n",
      "test_loss: 1.42975640825162\n",
      "epoch: 11/15\n",
      "train_acc: 0.7493650793650793\n",
      "train_loss: 1.3687064553269355\n",
      "test_acc: 0.7467619047619047\n",
      "test_loss: 1.3712379262309187\n",
      "epoch: 12/15\n",
      "train_acc: 0.7602222222222222\n",
      "train_loss: 1.314551513627561\n",
      "test_acc: 0.7552380952380953\n",
      "test_loss: 1.3171970619420705\n",
      "epoch: 13/15\n",
      "train_acc: 0.7676825396825396\n",
      "train_loss: 1.2645480152913287\n",
      "test_acc: 0.7638095238095238\n",
      "test_loss: 1.2673075390551207\n",
      "epoch: 14/15\n",
      "train_acc: 0.7748571428571429\n",
      "train_loss: 1.2183758080114309\n",
      "test_acc: 0.7704761904761904\n",
      "test_loss: 1.221248690221853\n",
      "epoch: 15/15\n",
      "train_acc: 0.7814603174603174\n",
      "train_loss: 1.1757251515702678\n",
      "test_acc: 0.7770476190476191\n",
      "test_loss: 1.1787103114994282\n"
     ]
    }
   ],
   "source": [
    "net = Net()\n",
    "net.add(Linear(784, 200))\n",
    "net.add(Tanh())\n",
    "net.add(Linear(200,10))\n",
    "net.add(Softmax())\n",
    "loss = CrossEntropyLoss()\n",
    "\n",
    "net.compile(loss=CrossEntropyLoss())\n",
    "\n",
    "hist = net.fit(train_data, train_labels, lr=0.001, epochs=15, batch_size=256, validation_data=(test_data,test_labels))"
   ]
  },
  {
   "cell_type": "code",
   "execution_count": 21,
   "metadata": {},
   "outputs": [
    {
     "data": {
      "text/plain": [
       "<matplotlib.legend.Legend at 0x22189feef70>"
      ]
     },
     "execution_count": 21,
     "metadata": {},
     "output_type": "execute_result"
    },
    {
     "data": {
      "image/png": "[encoded data removed]",
      "text/plain": [
       "<Figure size 432x288 with 1 Axes>"
      ]
     },
     "metadata": {
      "needs_background": "light"
     },
     "output_type": "display_data"
    }
   ],
   "source": [
    "plt.clf()\n",
    "plt.ylim(0, 2.0)\n",
    "for i in range(2):\n",
    "    plt.plot([val[i] for val in hist], label=['test_acc','test_loss'][i])\n",
    "plt.legend()"
   ]
  },
  {
   "cell_type": "code",
   "execution_count": 15,
   "metadata": {},
   "outputs": [
    {
     "name": "stdout",
     "output_type": "stream",
     "text": [
      "Initial train_acc: 0.042444444444444444\n",
      "Initial train_loss: 2.380343169149706\n",
      "Initial test_acc: 0.040095238095238094\n",
      "Initial test_loss: 2.380503252080031\n",
      "epoch: 1/15\n",
      "train_acc: 0.16498412698412698\n",
      "train_loss: 2.2159278561137032\n",
      "test_acc: 0.16171428571428573\n",
      "test_loss: 2.2161005740663264\n",
      "epoch: 2/15\n",
      "train_acc: 0.36295238095238097\n",
      "train_loss: 2.0749357352286055\n",
      "test_acc: 0.36104761904761906\n",
      "test_loss: 2.075083874477316\n",
      "epoch: 3/15\n",
      "train_acc: 0.5447301587301587\n",
      "train_loss: 1.9489442120696294\n",
      "test_acc: 0.5417142857142857\n",
      "test_loss: 1.9490638139497487\n",
      "epoch: 4/15\n",
      "train_acc: 0.6394603174603175\n",
      "train_loss: 1.8346152934228823\n",
      "test_acc: 0.6350476190476191\n",
      "test_loss: 1.8347152126343498\n",
      "epoch: 5/15\n",
      "train_acc: 0.6886031746031746\n",
      "train_loss: 1.7304421578049096\n",
      "test_acc: 0.681047619047619\n",
      "test_loss: 1.7305364154718352\n",
      "epoch: 6/15\n",
      "train_acc: 0.7168571428571429\n",
      "train_loss: 1.6355270896635559\n",
      "test_acc: 0.7114285714285714\n",
      "test_loss: 1.635632400450001\n",
      "epoch: 7/15\n",
      "train_acc: 0.7363174603174604\n",
      "train_loss: 1.5491565804087981\n",
      "test_acc: 0.7321904761904762\n",
      "test_loss: 1.5492912084892678\n",
      "epoch: 8/15\n",
      "train_acc: 0.7517460317460317\n",
      "train_loss: 1.4706642883146077\n",
      "test_acc: 0.748\n",
      "test_loss: 1.4708469934743995\n",
      "epoch: 9/15\n",
      "train_acc: 0.7632063492063492\n",
      "train_loss: 1.399394599597169\n",
      "test_acc: 0.7582857142857143\n",
      "test_loss: 1.3996435790711872\n",
      "epoch: 10/15\n",
      "train_acc: 0.7724444444444445\n",
      "train_loss: 1.3347017531944652\n",
      "test_acc: 0.7667619047619048\n",
      "test_loss: 1.3350337638277003\n",
      "epoch: 11/15\n",
      "train_acc: 0.7804126984126984\n",
      "train_loss: 1.2759603092129799\n",
      "test_acc: 0.7766666666666666\n",
      "test_loss: 1.2763900922073566\n",
      "epoch: 12/15\n",
      "train_acc: 0.7869206349206349\n",
      "train_loss: 1.2225768859677513\n",
      "test_acc: 0.7833333333333333\n",
      "test_loss: 1.2231168993151438\n",
      "epoch: 13/15\n",
      "train_acc: 0.7925396825396825\n",
      "train_loss: 1.1739991265088046\n",
      "test_acc: 0.7900952380952381\n",
      "test_loss: 1.1746595198310783\n",
      "epoch: 14/15\n",
      "train_acc: 0.7974603174603174\n",
      "train_loss: 1.1297208639238552\n",
      "test_acc: 0.794952380952381\n",
      "test_loss: 1.1305096123376246\n",
      "epoch: 15/15\n",
      "train_acc: 0.8011428571428572\n",
      "train_loss: 1.0892838671918215\n",
      "test_acc: 0.7995238095238095\n",
      "test_loss: 1.0902069920023165\n"
     ]
    }
   ],
   "source": [
    "net = Net()\n",
    "net.add(Linear(784, 300))\n",
    "net.add(Tanh())\n",
    "net.add(Linear(300,10))\n",
    "net.add(Softmax())\n",
    "loss = CrossEntropyLoss()\n",
    "\n",
    "net.compile(loss=CrossEntropyLoss())\n",
    "\n",
    "hist = net.fit(train_data, train_labels, lr=0.001, epochs=15, batch_size=256, validation_data=(test_data,test_labels))"
   ]
  },
  {
   "cell_type": "code",
   "execution_count": 18,
   "metadata": {},
   "outputs": [
    {
     "data": {
      "text/plain": [
       "<matplotlib.legend.Legend at 0x22189f71fd0>"
      ]
     },
     "execution_count": 18,
     "metadata": {},
     "output_type": "execute_result"
    },
    {
     "data": {
      "image/png": "[encoded data removed]",
      "text/plain": [
       "<Figure size 432x288 with 1 Axes>"
      ]
     },
     "metadata": {
      "needs_background": "light"
     },
     "output_type": "display_data"
    }
   ],
   "source": [
    "plt.clf()\n",
    "plt.ylim(0, 2.0)\n",
    "for i in range(2):\n",
    "    plt.plot([val[i] for val in hist], label=['test_acc','test_loss'][i])\n",
    "plt.legend()"
   ]
  },
  {
   "cell_type": "code",
   "execution_count": 23,
   "metadata": {},
   "outputs": [
    {
     "name": "stdout",
     "output_type": "stream",
     "text": [
      "Initial train_acc: 0.06841269841269841\n",
      "Initial train_loss: 2.428863305645242\n",
      "Initial test_acc: 0.06971428571428571\n",
      "Initial test_loss: 2.4292837364580784\n",
      "epoch: 1/15\n",
      "train_acc: 0.1732063492063492\n",
      "train_loss: 2.2519095440222463\n",
      "test_acc: 0.17257142857142857\n",
      "test_loss: 2.2522876557204645\n",
      "epoch: 2/15\n",
      "train_acc: 0.31965079365079363\n",
      "train_loss: 2.1018354300527435\n",
      "test_acc: 0.31723809523809526\n",
      "test_loss: 2.1022442346338805\n",
      "epoch: 3/15\n",
      "train_acc: 0.4743174603174603\n",
      "train_loss: 1.9688625785418008\n",
      "test_acc: 0.468\n",
      "test_loss: 1.9693458261013015\n",
      "epoch: 4/15\n",
      "train_acc: 0.5774603174603175\n",
      "train_loss: 1.8492361192580369\n",
      "test_acc: 0.5733333333333334\n",
      "test_loss: 1.8498199770387176\n",
      "epoch: 5/15\n",
      "train_acc: 0.6401587301587301\n",
      "train_loss: 1.7410714404539283\n",
      "test_acc: 0.6315238095238095\n",
      "test_loss: 1.7417741695976119\n",
      "epoch: 6/15\n",
      "train_acc: 0.6788888888888889\n",
      "train_loss: 1.6431428793997092\n",
      "test_acc: 0.6722857142857143\n",
      "test_loss: 1.6439798248928594\n",
      "epoch: 7/15\n",
      "train_acc: 0.7058730158730159\n",
      "train_loss: 1.5544776268499327\n",
      "test_acc: 0.6983809523809524\n",
      "test_loss: 1.5554627041431761\n",
      "epoch: 8/15\n",
      "train_acc: 0.7266031746031746\n",
      "train_loss: 1.4742135666828609\n",
      "test_acc: 0.7218095238095238\n",
      "test_loss: 1.4753590713122224\n",
      "epoch: 9/15\n",
      "train_acc: 0.7435873015873016\n",
      "train_loss: 1.4015518440976895\n",
      "test_acc: 0.7369523809523809\n",
      "test_loss: 1.4028678897636775\n",
      "epoch: 10/15\n",
      "train_acc: 0.7576190476190476\n",
      "train_loss: 1.3357447353084\n",
      "test_acc: 0.7507619047619047\n",
      "test_loss: 1.3372389182533067\n",
      "epoch: 11/15\n",
      "train_acc: 0.768984126984127\n",
      "train_loss: 1.2760957423589046\n",
      "test_acc: 0.7635238095238095\n",
      "test_loss: 1.277773148914695\n",
      "epoch: 12/15\n",
      "train_acc: 0.7778730158730158\n",
      "train_loss: 1.221962460170314\n",
      "test_acc: 0.7719047619047619\n",
      "test_loss: 1.223825922672752\n",
      "epoch: 13/15\n",
      "train_acc: 0.7863492063492064\n",
      "train_loss: 1.1727585719322668\n",
      "test_acc: 0.7792380952380953\n",
      "test_loss: 1.1748090389994088\n",
      "epoch: 14/15\n",
      "train_acc: 0.792952380952381\n",
      "train_loss: 1.127953947585904\n",
      "test_acc: 0.7861904761904762\n",
      "test_loss: 1.1301908681217536\n",
      "epoch: 15/15\n",
      "train_acc: 0.7986666666666666\n",
      "train_loss: 1.0870729329424558\n",
      "test_acc: 0.7923809523809524\n",
      "test_loss: 1.089494599337789\n"
     ]
    }
   ],
   "source": [
    "net = Net()\n",
    "net.add(Linear(784, 400))\n",
    "net.add(Tanh())\n",
    "net.add(Linear(400,10))\n",
    "net.add(Softmax())\n",
    "loss = CrossEntropyLoss()\n",
    "\n",
    "net.compile(loss=CrossEntropyLoss())\n",
    "\n",
    "hist = net.fit(train_data, train_labels, lr=0.001, epochs=15, batch_size=256, validation_data=(test_data,test_labels))"
   ]
  },
  {
   "cell_type": "code",
   "execution_count": 24,
   "metadata": {},
   "outputs": [
    {
     "data": {
      "text/plain": [
       "<matplotlib.legend.Legend at 0x2218a058a60>"
      ]
     },
     "execution_count": 24,
     "metadata": {},
     "output_type": "execute_result"
    },
    {
     "data": {
      "image/png": "[encoded data removed]",
      "text/plain": [
       "<Figure size 432x288 with 1 Axes>"
      ]
     },
     "metadata": {
      "needs_background": "light"
     },
     "output_type": "display_data"
    }
   ],
   "source": [
    "plt.clf()\n",
    "plt.ylim(0, 2.0)\n",
    "for i in range(2):\n",
    "    plt.plot([val[i] for val in hist], label=['test_acc','test_loss'][i])\n",
    "plt.legend()"
   ]
  },
  {
   "cell_type": "code",
   "execution_count": null,
   "metadata": {},
   "outputs": [],
   "source": []
  },
  {
   "cell_type": "code",
   "execution_count": null,
   "metadata": {},
   "outputs": [],
   "source": []
  }
 ],
 "metadata": {
  "kernelspec": {
   "display_name": "Python 3",
   "language": "python",
   "name": "python3"
  },
  "language_info": {
   "codemirror_mode": {
    "name": "ipython",
    "version": 3
   },
   "file_extension": ".py",
   "mimetype": "text/x-python",
   "name": "python",
   "nbconvert_exporter": "python",
   "pygments_lexer": "ipython3",
   "version": "3.8.5"
  }
 },
 "nbformat": 4,
 "nbformat_minor": 2
}
